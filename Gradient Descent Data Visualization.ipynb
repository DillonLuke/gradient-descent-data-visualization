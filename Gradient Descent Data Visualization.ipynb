{
 "cells": [
  {
   "cell_type": "markdown",
   "id": "7aac1b0a",
   "metadata": {},
   "source": [
    "## Gradient Descent Data Visualization"
   ]
  },
  {
   "cell_type": "markdown",
   "id": "72a14ce1",
   "metadata": {},
   "source": [
    "### Description"
   ]
  },
  {
   "cell_type": "markdown",
   "id": "6f512e38",
   "metadata": {},
   "source": [
    "The purpose of this project was to provide an animation for the gradient descent algorithm in the context of a simple linear regression model. This script provides user-control of the:\n",
    "1. sample size (<i>n</i>)\n",
    "2. intercept (b0) and slope (b1)\n",
    "3. predictor feature mean and variance \n",
    "4. error variance\n",
    "5. learning rate\n",
    "6. tolerance\n",
    "\n",
    "After defining these parameters, the animation function will animate 100 frames (20 frames per second) evenly spread across the iterations of the gradient descent algorithm. Each frame plots the evaluated b0 and b1 values across the iterations up to the current frame. The background color scheme represents a contour plot of the cost function, with red representing lower cost and blue higher cost.\n",
    "\n",
    "<i>Note</i>: Larger values for the predictor feature mean and variance can increase computational time for the gradient descent algorithm."
   ]
  },
  {
   "cell_type": "markdown",
   "id": "1e4ac815",
   "metadata": {},
   "source": [
    "### Animation"
   ]
  },
  {
   "cell_type": "code",
   "execution_count": 1,
   "id": "05768424",
   "metadata": {},
   "outputs": [],
   "source": [
    "from gradient_descent_functions import gradient_descent_animation\n",
    "\n",
    "from IPython.display import Image"
   ]
  },
  {
   "cell_type": "markdown",
   "id": "4dc58fc7",
   "metadata": {},
   "source": [
    "Getting animation object and then saving and displaying as a gif."
   ]
  },
  {
   "cell_type": "code",
   "execution_count": 2,
   "id": "45eb739a",
   "metadata": {
    "scrolled": false
   },
   "outputs": [
    {
     "data": {
      "text/html": [
       "<img src=\"gd_animation.gif\"/>"
      ],
      "text/plain": [
       "<IPython.core.display.Image object>"
      ]
     },
     "execution_count": 2,
     "metadata": {},
     "output_type": "execute_result"
    }
   ],
   "source": [
    "gd_animation = gradient_descent_animation(\n",
    "    sample_size=1000, # n\n",
    "    b0=5.0, # intercept\n",
    "    b1=1.0, # slope\n",
    "    x_mean=1.0, # predictor feature mean\n",
    "    x_var=1.0, # predictor feature variance\n",
    "    err_var=2.0, # error variance in model\n",
    "    lr=.01, # learning rate\n",
    "    tol=1e-4 # tolerance\n",
    ")\n",
    "\n",
    "gd_animation.save('gd_animation.gif')\n",
    "\n",
    "Image(url='gd_animation.gif')"
   ]
  }
 ],
 "metadata": {
  "kernelspec": {
   "display_name": "Python 3 (ipykernel)",
   "language": "python",
   "name": "python3"
  },
  "language_info": {
   "codemirror_mode": {
    "name": "ipython",
    "version": 3
   },
   "file_extension": ".py",
   "mimetype": "text/x-python",
   "name": "python",
   "nbconvert_exporter": "python",
   "pygments_lexer": "ipython3",
   "version": "3.9.16"
  }
 },
 "nbformat": 4,
 "nbformat_minor": 5
}
